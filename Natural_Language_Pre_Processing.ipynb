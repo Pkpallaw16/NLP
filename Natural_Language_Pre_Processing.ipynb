{
 "cells": [
  {
   "cell_type": "markdown",
   "metadata": {
    "colab_type": "text",
    "id": "j-d8PNd4X_NA"
   },
   "source": [
    "![alt text](https://miro.medium.com/max/1600/1*p_zgFaUyb66IeyHsi15soA.jpeg)"
   ]
  },
  {
   "cell_type": "markdown",
   "metadata": {
    "colab_type": "text",
    "id": "QPJSIxy9YHDT"
   },
   "source": [
    "**NLP** is short for **Natural Language Processing**. As you probably know, computers are not as great at understanding words as they are numbers. This is all changing though as advances in NLP are happening everyday. The fact that devices like Apple’s Siri and Amazon’s Alexa can (usually) comprehend when we ask the weather, for directions, or to play a certain genre of music are all examples of NLP. The spam filter in your email and the spellcheck you’ve used since you learned to type in elementary school are some other basic examples of when your computer is understanding language.\n",
    "\n",
    "\n",
    "As a data scientist, we may use NLP for sentiment analysis (classifying words to have positive or negative connotation) or to make predictions in classification models, among other things. Typically, whether we’re given the data or have to scrape it, the text will be in its natural human format of sentences, paragraphs, tweets, etc. From there, before we can dig into analyzing, we will have to do some cleaning to break the text down into a format the computer can easily understand."
   ]
  },
  {
   "cell_type": "markdown",
   "metadata": {
    "colab_type": "text",
    "id": "zleUuQnJc0eK"
   },
   "source": [
    "# NLTK (Natural Language Toolkit)\n",
    "\n",
    "The Natural Language Toolkit, or more commonly NLTK, is a suite of libraries and programs for symbolic and statistical natural language processing for English written in the Python programming language. Although NLTK has adapted to more than 38 languages at present.\n",
    "\n",
    "NLTK is a leading platform for building Python programs to work with human language data. It provides easy-to-use interfaces to over 50 corpora and lexical resources such as WordNet, along with a suite of text processing libraries for classification, tokenization, stemming, tagging, parsing, and semantic reasoning and wrappers for industrial-strength NLP libraries.  NLTK is available for Windows, Mac OS X, and Linux. Best of all, NLTK is a free, open source, community-driven project."
   ]
  },
  {
   "cell_type": "markdown",
   "metadata": {
    "colab_type": "text",
    "id": "LIpt5iUxd2e7"
   },
   "source": [
    "## NLP Library\t\n",
    "\n",
    "**NLTK** :\tThis is one of the most usable and mother of all NLP libraries.\n",
    "\n",
    "**spaCy**:\tThis is completely optimized and highly accurate library widely used in deep learning\n",
    "\n",
    "**Stanford CoreNLP Python**:\tFor client-server based architecture this is a good library in NLTK. This is written in JAVA, but it provides modularity to use it in Python.\n",
    "\n",
    "**TextBlob**:\tThis is an NLP library which works in python2 and python3. This is used for processing textual data and provide mainly all type of operation in the form of API.\n",
    "\n",
    "**Gensim**:\tGenism is a robust open source NLP library support in python. This library is highly efficient and scalable.\n",
    "\n",
    "**Pattern**:\tIt is a light-weighted NLP module. This is generally used in Web-mining, crawling or such type of spidering task. \n",
    "\n",
    "**Polyglot**:\tFor massive multilingual applications, Polyglot is best suitable NLP library. Feature extraction in the way on Identity and Entity.\n",
    "\n",
    "**PyNLPl**:\tPyNLPI also was known as 'Pineapple' and supports Python. It provides a parser for many data format like FoLiA/Giza/Moses/ARPA/Timbl/CQL.\n",
    "\n",
    "**Vocabulary**:\tThis library is best to get Semantic type information from the given text."
   ]
  },
  {
   "cell_type": "code",
   "execution_count": 1,
   "metadata": {
    "colab": {
     "base_uri": "https://localhost:8080/",
     "height": 51
    },
    "colab_type": "code",
    "id": "4oM787FOXrBa",
    "outputId": "7dd5e7ef-44c4-44bf-8e53-596cf18686e5"
   },
   "outputs": [
    {
     "name": "stdout",
     "output_type": "stream",
     "text": [
      "Requirement already satisfied: nltk in c:\\users\\pallaw\\anaconda3\\lib\\site-packages (3.4.5)\n",
      "Requirement already satisfied: six in c:\\users\\pallaw\\anaconda3\\lib\\site-packages (from nltk) (1.12.0)\n",
      "Note: you may need to restart the kernel to use updated packages.\n"
     ]
    }
   ],
   "source": [
    "pip install nltk"
   ]
  },
  {
   "cell_type": "code",
   "execution_count": 4,
   "metadata": {
    "colab": {
     "base_uri": "https://localhost:8080/",
     "height": 1000
    },
    "colab_type": "code",
    "id": "4_FQQfXYizDA",
    "outputId": "53734850-8276-4c37-dabd-d13be718f646"
   },
   "outputs": [
    {
     "name": "stdout",
     "output_type": "stream",
     "text": [
      "showing info https://raw.githubusercontent.com/nltk/nltk_data/gh-pages/index.xml\n"
     ]
    },
    {
     "data": {
      "text/plain": [
       "True"
      ]
     },
     "execution_count": 4,
     "metadata": {},
     "output_type": "execute_result"
    }
   ],
   "source": [
    "import nltk\n",
    "nltk.download()"
   ]
  },
  {
   "cell_type": "code",
   "execution_count": 5,
   "metadata": {
    "colab": {
     "base_uri": "https://localhost:8080/",
     "height": 67
    },
    "colab_type": "code",
    "id": "kbr-JNS0jGO-",
    "outputId": "ca6beef8-dd26-48ed-9a3f-520d39a7f334"
   },
   "outputs": [
    {
     "name": "stderr",
     "output_type": "stream",
     "text": [
      "[nltk_data] Downloading package gutenberg to\n",
      "[nltk_data]     C:\\Users\\pallaw\\AppData\\Roaming\\nltk_data...\n",
      "[nltk_data]   Package gutenberg is already up-to-date!\n"
     ]
    },
    {
     "data": {
      "text/plain": [
       "True"
      ]
     },
     "execution_count": 5,
     "metadata": {},
     "output_type": "execute_result"
    }
   ],
   "source": [
    "nltk.download('gutenberg')"
   ]
  },
  {
   "cell_type": "code",
   "execution_count": 6,
   "metadata": {
    "colab": {
     "base_uri": "https://localhost:8080/",
     "height": 67
    },
    "colab_type": "code",
    "id": "ib9mnxTojboi",
    "outputId": "541b005c-62ed-4c3f-a283-8826b8e28636"
   },
   "outputs": [
    {
     "name": "stderr",
     "output_type": "stream",
     "text": [
      "[nltk_data] Downloading package genesis to\n",
      "[nltk_data]     C:\\Users\\pallaw\\AppData\\Roaming\\nltk_data...\n",
      "[nltk_data]   Package genesis is already up-to-date!\n"
     ]
    },
    {
     "data": {
      "text/plain": [
       "True"
      ]
     },
     "execution_count": 6,
     "metadata": {},
     "output_type": "execute_result"
    }
   ],
   "source": [
    "nltk.download('genesis')"
   ]
  },
  {
   "cell_type": "code",
   "execution_count": 7,
   "metadata": {
    "colab": {
     "base_uri": "https://localhost:8080/",
     "height": 319
    },
    "colab_type": "code",
    "id": "X8CLkw2DkbZn",
    "outputId": "de9a18ca-4c2e-4240-edfc-5e8205161088"
   },
   "outputs": [
    {
     "data": {
      "text/plain": [
       "['austen-emma.txt',\n",
       " 'austen-persuasion.txt',\n",
       " 'austen-sense.txt',\n",
       " 'bible-kjv.txt',\n",
       " 'blake-poems.txt',\n",
       " 'bryant-stories.txt',\n",
       " 'burgess-busterbrown.txt',\n",
       " 'carroll-alice.txt',\n",
       " 'chesterton-ball.txt',\n",
       " 'chesterton-brown.txt',\n",
       " 'chesterton-thursday.txt',\n",
       " 'edgeworth-parents.txt',\n",
       " 'melville-moby_dick.txt',\n",
       " 'milton-paradise.txt',\n",
       " 'shakespeare-caesar.txt',\n",
       " 'shakespeare-hamlet.txt',\n",
       " 'shakespeare-macbeth.txt',\n",
       " 'whitman-leaves.txt']"
      ]
     },
     "execution_count": 7,
     "metadata": {},
     "output_type": "execute_result"
    }
   ],
   "source": [
    "nltk.corpus.gutenberg.fileids()"
   ]
  },
  {
   "cell_type": "code",
   "execution_count": 8,
   "metadata": {
    "colab": {
     "base_uri": "https://localhost:8080/",
     "height": 34
    },
    "colab_type": "code",
    "id": "VAap0A7vnEcJ",
    "outputId": "abceb834-ea78-40a0-8736-7bccf8021c30"
   },
   "outputs": [
    {
     "name": "stdout",
     "output_type": "stream",
     "text": [
      "['[', 'Leaves', 'of', 'Grass', 'by', 'Walt', 'Whitman', ...]\n"
     ]
    }
   ],
   "source": [
    "whitman = nltk.corpus.gutenberg.words('whitman-leaves.txt')\n",
    "print(whitman)"
   ]
  },
  {
   "cell_type": "markdown",
   "metadata": {
    "colab_type": "text",
    "id": "bahL29ECsBFQ"
   },
   "source": [
    "## Text Preprocessing"
   ]
  },
  {
   "cell_type": "markdown",
   "metadata": {
    "colab_type": "text",
    "id": "qLTujHgRsEmh"
   },
   "source": [
    "We will talk about the basic steps of text preprocessing. These steps are needed for transferring text from human language to machine-readable format for further processing. We will also discuss text preprocessing tools.\n",
    "\n",
    "After a text is obtained, we start with text normalization. Text normalization includes:\n",
    "\n",
    "\n",
    "\n",
    "*    removing punctuations, accent marks and other diacritics\n",
    "*    removing white spaces\n",
    "*    expanding abbreviations\n",
    "*    removing stop words, sparse terms, and particular words\n",
    "*    text canonicalization\n",
    "*    converting all letters to lower or upper case\n",
    "*    converting numbers into words or removing numbers\n",
    "\n"
   ]
  },
  {
   "cell_type": "markdown",
   "metadata": {
    "colab_type": "text",
    "id": "gjQkmTZqyUQx"
   },
   "source": [
    "### Removing punctuations, accent marks, special symbols and diacritics"
   ]
  },
  {
   "cell_type": "code",
   "execution_count": 9,
   "metadata": {
    "colab": {
     "base_uri": "https://localhost:8080/",
     "height": 34
    },
    "colab_type": "code",
    "id": "R7IMxZmryTxk",
    "outputId": "fa3a8035-db67-4f06-8f7a-a9f59c6abb84"
   },
   "outputs": [
    {
     "name": "stdout",
     "output_type": "stream",
     "text": [
      "remove this  from my given string object\n"
     ]
    },
    {
     "data": {
      "text/plain": [
       "'remove this  from my given string object'"
      ]
     },
     "execution_count": 9,
     "metadata": {},
     "output_type": "execute_result"
    }
   ],
   "source": [
    "# Sample code to remove a regex pattern \n",
    "import re \n",
    "\n",
    "def remove_regex(input_text, regex_pattern):\n",
    "    urls = re.finditer(regex_pattern, input_text)\n",
    "    \n",
    "    for i in urls: \n",
    "        input_text = re.sub(i.group().strip(), '', input_text)\n",
    "        print(input_text)\n",
    "                \n",
    "\n",
    "    return input_text\n",
    "\n",
    "regex_pattern = \"#[\\w]*\"  \n",
    "\n",
    "remove_regex(\"remove this #hashtag from my given string object\", regex_pattern)"
   ]
  },
  {
   "cell_type": "markdown",
   "metadata": {
    "colab_type": "text",
    "id": "_dwlWziP4nZR"
   },
   "source": [
    "### Remove whitespaces"
   ]
  },
  {
   "cell_type": "code",
   "execution_count": 10,
   "metadata": {
    "colab": {
     "base_uri": "https://localhost:8080/",
     "height": 34
    },
    "colab_type": "code",
    "id": "CTICTDEB41e0",
    "outputId": "fcd82e5f-8dcd-4587-847d-8a2a463a648e"
   },
   "outputs": [
    {
     "data": {
      "text/plain": [
       "'a string example'"
      ]
     },
     "execution_count": 10,
     "metadata": {},
     "output_type": "execute_result"
    }
   ],
   "source": [
    "input_str = \" \\t a string example\\t \"\n",
    "input_str = input_str.strip()\n",
    "input_str"
   ]
  },
  {
   "cell_type": "markdown",
   "metadata": {
    "colab_type": "text",
    "id": "uHPBW4PZ5Eqa"
   },
   "source": [
    "### Remove Numbers"
   ]
  },
  {
   "cell_type": "code",
   "execution_count": 11,
   "metadata": {
    "colab": {
     "base_uri": "https://localhost:8080/",
     "height": 34
    },
    "colab_type": "code",
    "id": "I4A18T2f5G-E",
    "outputId": "f03aec7a-bfe8-4e62-8e3c-f665b2ade431"
   },
   "outputs": [
    {
     "name": "stdout",
     "output_type": "stream",
     "text": [
      "Box A contains  red and  white balls, while Box B contains  red and  blue balls.\n"
     ]
    }
   ],
   "source": [
    "import re\n",
    "input_str = \"Box A contains 3 red and 5 white balls, while Box B contains 4 red and 2 blue balls.\"\n",
    "result = re.sub(r\"\\d+\", \"\", input_str)\n",
    "print(result)"
   ]
  },
  {
   "cell_type": "markdown",
   "metadata": {
    "colab_type": "text",
    "id": "0Xo4yDnL5c7x"
   },
   "source": [
    "### Convert Case"
   ]
  },
  {
   "cell_type": "code",
   "execution_count": 12,
   "metadata": {
    "colab": {
     "base_uri": "https://localhost:8080/",
     "height": 34
    },
    "colab_type": "code",
    "id": "PeQIa5xK5gV3",
    "outputId": "b1e39155-134c-473b-9830-db41b86d4d02"
   },
   "outputs": [
    {
     "name": "stdout",
     "output_type": "stream",
     "text": [
      "the 5 biggest countries by population in 2017 are china, india, united states, indonesia, and brazil.\n"
     ]
    }
   ],
   "source": [
    "input_str = \"The 5 biggest countries by population in 2017 are China, India, United States, Indonesia, and Brazil.\"\n",
    "input_str = input_str.lower()\n",
    "print(input_str)"
   ]
  },
  {
   "cell_type": "markdown",
   "metadata": {
    "colab_type": "text",
    "id": "o3nA6fDk5toc"
   },
   "source": [
    "**Tokenization**\n",
    "\n",
    "Tokenization is the process of splitting the given text into smaller pieces called tokens. Words, numbers, punctuation marks, and others can be considered as tokens."
   ]
  },
  {
   "cell_type": "code",
   "execution_count": 13,
   "metadata": {
    "colab": {
     "base_uri": "https://localhost:8080/",
     "height": 67
    },
    "colab_type": "code",
    "id": "KrQ32n096_GA",
    "outputId": "153320f1-fe24-4081-b0e8-e04e72d58565"
   },
   "outputs": [
    {
     "name": "stderr",
     "output_type": "stream",
     "text": [
      "[nltk_data] Downloading package punkt to\n",
      "[nltk_data]     C:\\Users\\pallaw\\AppData\\Roaming\\nltk_data...\n",
      "[nltk_data]   Package punkt is already up-to-date!\n"
     ]
    },
    {
     "data": {
      "text/plain": [
       "True"
      ]
     },
     "execution_count": 13,
     "metadata": {},
     "output_type": "execute_result"
    }
   ],
   "source": [
    "nltk.download('punkt')"
   ]
  },
  {
   "cell_type": "code",
   "execution_count": 14,
   "metadata": {
    "colab": {
     "base_uri": "https://localhost:8080/",
     "height": 54
    },
    "colab_type": "code",
    "id": "iAhXTfte5wPN",
    "outputId": "62e09519-921d-4e7d-a319-4d8b5d77a1a0"
   },
   "outputs": [
    {
     "name": "stdout",
     "output_type": "stream",
     "text": [
      "['NLTK', 'is', 'a', 'leading', 'platform', 'for', 'building', 'Python', 'programs', 'to', 'work', 'with', 'human', 'language', 'data', '.']\n"
     ]
    }
   ],
   "source": [
    "input_str = \"NLTK is a leading platform for building Python programs to work with human language data.\"\n",
    "\n",
    "from nltk.tokenize import word_tokenize\n",
    "tokens = word_tokenize(input_str)\n",
    "print (tokens)"
   ]
  },
  {
   "cell_type": "markdown",
   "metadata": {
    "colab_type": "text",
    "id": "yhq0zde57Itt"
   },
   "source": [
    "### Remove stop words\n",
    "\n",
    "“Stop words” are the most common words in a language like “the”, “a”, “on”, “is”, “all”. These words do not carry important meaning and are usually removed from texts."
   ]
  },
  {
   "cell_type": "code",
   "execution_count": 15,
   "metadata": {
    "colab": {
     "base_uri": "https://localhost:8080/",
     "height": 67
    },
    "colab_type": "code",
    "id": "5oD8Gnon73KT",
    "outputId": "4c235501-130e-4c32-8c71-8adf7dca1da2"
   },
   "outputs": [
    {
     "name": "stderr",
     "output_type": "stream",
     "text": [
      "[nltk_data] Downloading package stopwords to\n",
      "[nltk_data]     C:\\Users\\pallaw\\AppData\\Roaming\\nltk_data...\n",
      "[nltk_data]   Package stopwords is already up-to-date!\n"
     ]
    },
    {
     "data": {
      "text/plain": [
       "True"
      ]
     },
     "execution_count": 15,
     "metadata": {},
     "output_type": "execute_result"
    }
   ],
   "source": [
    "nltk.download('stopwords')"
   ]
  },
  {
   "cell_type": "code",
   "execution_count": 16,
   "metadata": {
    "colab": {
     "base_uri": "https://localhost:8080/",
     "height": 54
    },
    "colab_type": "code",
    "id": "8YIeqnHZ7PUe",
    "outputId": "d9192252-bf3e-4231-c659-135f1d723e18"
   },
   "outputs": [
    {
     "name": "stdout",
     "output_type": "stream",
     "text": [
      "{'is', 'then', \"aren't\", 'wouldn', 'we', 'ours', 'off', 'such', 'himself', \"needn't\", 'being', 'you', 'having', 'are', 'most', 'here', 'y', 'she', 'same', 'our', 't', 'ain', 'doing', 'they', 'weren', 'under', 'so', \"hasn't\", \"wouldn't\", 'hers', 'after', 'all', 'he', 'the', \"hadn't\", \"that'll\", 'these', \"wasn't\", 'below', \"isn't\", 'down', 'it', 'or', 'doesn', \"you'd\", 'above', 'only', 'nor', 'through', 'me', 'yourselves', 'why', 'for', 'as', 'has', 'had', \"you'll\", 'itself', 'before', 'myself', 'when', 'o', 're', 'have', 'don', \"won't\", 'her', 'to', 'each', \"mustn't\", 'those', 'that', 'needn', 'shan', 'was', 'an', 'should', 'i', 'if', 'didn', 'my', 'his', 'both', \"should've\", 'can', 'd', 'into', 'mustn', 'in', 'own', 'about', 'until', 'yourself', \"weren't\", \"haven't\", 'been', 'a', 'am', 'there', \"don't\", 'yours', 'whom', 'aren', 'from', \"couldn't\", 'ourselves', 'won', 'just', 'll', 'up', 'which', 'isn', \"didn't\", 'theirs', 'mightn', 'what', \"mightn't\", 'again', 'couldn', \"shan't\", 'haven', 'few', 'now', 's', 'them', 'because', 'very', 'further', 'more', 'over', \"shouldn't\", 'will', 'how', \"you've\", 'no', \"it's\", 'not', 'during', 'but', 'hasn', 'hadn', 'do', 'were', 'on', 'some', 'shouldn', 'by', 'does', 'other', 'm', 'at', 'with', 'wasn', 'this', 'and', 'who', 'herself', 'your', 'be', 'did', 'too', \"doesn't\", 'themselves', \"you're\", 'between', 'against', 'out', 'its', 'ma', 'where', 'while', 'of', 'once', 'him', \"she's\", 'than', 'their', 've', 'any'}\n"
     ]
    }
   ],
   "source": [
    "from nltk.corpus import stopwords\n",
    "stop_words = set(stopwords.words('english'))\n",
    "print(stop_words)"
   ]
  },
  {
   "cell_type": "code",
   "execution_count": 17,
   "metadata": {
    "colab": {
     "base_uri": "https://localhost:8080/",
     "height": 34
    },
    "colab_type": "code",
    "id": "7CP3gK7j7-FL",
    "outputId": "2c1dfa52-733c-4fe8-b8eb-081c002a124d"
   },
   "outputs": [
    {
     "name": "stdout",
     "output_type": "stream",
     "text": [
      "['All', 'work', 'play', 'makes', 'jack', 'dull', 'boy', '.', 'Its', 'good', 'go', 'fun', 'times', '.']\n"
     ]
    }
   ],
   "source": [
    "input_str = \"All work and no play makes jack dull boy. Its good to go out and have fun at times.\"\n",
    "tokens = word_tokenize(input_str)\n",
    "result = [i for i in tokens if not i in stop_words]\n",
    "print (result)"
   ]
  },
  {
   "cell_type": "code",
   "execution_count": 18,
   "metadata": {
    "colab": {
     "base_uri": "https://localhost:8080/",
     "height": 54
    },
    "colab_type": "code",
    "id": "jvCGoQyH8YSX",
    "outputId": "e67d1278-46b1-4adf-e992-c5f5d607bf05"
   },
   "outputs": [
    {
     "name": "stdout",
     "output_type": "stream",
     "text": [
      "frozenset({'is', 'due', 'hasnt', 'moreover', 'otherwise', 'himself', 'top', 'you', 'become', 'are', 'fifteen', 'former', 'same', 'so', 'after', 'therein', 'it', 'empty', 'third', 'would', 'inc', 'nor', 'through', 'hence', 'thereby', 'except', 'had', 'has', 'elsewhere', 'seems', 'whole', 'have', 'her', 'either', 'next', 'bill', 'interest', 'his', 'whereafter', 'herein', 'whom', 'wherein', 'call', 'nothing', 'amongst', 'twelve', 'un', 'few', 'them', 'must', 'one', 'how', 'might', 'via', 'hereby', 'during', 'became', 'across', 'anything', 'other', 'etc', 'with', 'indeed', 'someone', 'detail', 'herself', 'us', 'already', 'enough', 'out', 'its', 'de', 'once', 'him', 'their', 'often', 'then', 'full', 'such', 'give', 'meanwhile', 'among', 'she', 'hereupon', 'least', 'hers', 'noone', 'the', 'thus', 'nevertheless', 'per', 'however', 'or', 'therefore', 'four', 'above', 'whereupon', 'alone', 'although', 'show', 'why', 'as', 'for', 'itself', 'part', 'whence', 'cannot', 'seemed', 'never', 'each', 'should', 'both', 'my', 'yourself', 'since', 'put', 'toward', 'amoungst', 'from', 'ourselves', 'up', 'twenty', 'perhaps', 'nobody', 'again', 'cant', 'now', 'very', 'thence', 'eleven', 'eg', 'over', 'several', 'but', 'do', 'some', 'by', 'your', 'formerly', 'upon', 'hereafter', 'too', 'nowhere', 'sometime', 'between', 'against', 'sixty', 'whether', 'neither', 'being', 'three', 'here', 'whatever', 'whereby', 'found', 'they', 'whose', 'within', 'below', 'down', 'last', 'ten', 'everywhere', 'only', 'thereupon', 'me', 'sincere', 'beyond', 'before', 'rather', 'myself', 'when', 'anyone', 'somewhere', 'thereafter', 'another', 'always', 'back', 'well', 'move', 'becoming', 'that', 'serious', 'an', 'ltd', 'though', 'into', 'behind', 'about', 'until', 'side', 'a', 'first', 'eight', 'beforehand', 'six', 'there', 'made', 'find', 'please', 'keep', 'fire', 'what', 'forty', 'mine', 'seeming', 'something', 'further', 'more', 'onto', 'anyway', 'without', 'were', 'at', 'fill', 'this', 'and', 'along', 'themselves', 'amount', 'else', 'even', 'of', 'whenever', 'hundred', 'much', 'afterwards', 'co', 'ours', 'off', 'we', 'everyone', 'most', 'becomes', 'also', 'others', 'thick', 'our', 'system', 'anywhere', 'under', 'done', 'couldnt', 'all', 'yet', 'describe', 'he', 'these', 'towards', 'none', 'take', 'many', 'fifty', 'almost', 'ie', 'bottom', 'latter', 'five', 'around', 'throughout', 'cry', 'yourselves', 'see', 'get', 're', 'to', 'anyhow', 'every', 'those', 'everything', 'was', 'i', 'if', 'front', 'can', 'in', 'own', 'whither', 'been', 'am', 'yours', 'still', 'thru', 'sometimes', 'whoever', 'con', 'which', 'beside', 'mostly', 'could', 'seem', 'thin', 'less', 'because', 'nine', 'namely', 'will', 'no', 'not', 'somehow', 'latterly', 'on', 'name', 'together', 'whereas', 'two', 'besides', 'mill', 'who', 'be', 'go', 'may', 'wherever', 'ever', 'than', 'where', 'while', 'any'})\n"
     ]
    }
   ],
   "source": [
    "#sklearn can also provide a list of standard english stop words\n",
    "from sklearn.feature_extraction.stop_words import ENGLISH_STOP_WORDS\n",
    "print (ENGLISH_STOP_WORDS)"
   ]
  },
  {
   "cell_type": "markdown",
   "metadata": {
    "colab_type": "text",
    "id": "pCT4lmDA8oPc"
   },
   "source": [
    "Most of what we are going to do with language relies on ﬁrst separating out or tokenizing words (splitting the text into minimal meaningful units) from running text, known as the task of tokenization.\n",
    "\n",
    "English words are often separated from each other by whitespace, but whitespace is not always sufﬁcient. “New York” and “rock ’n’ roll” are sometimes treated as large words despite the fact that they contain spaces, while sometimes we’ll need to separate “I’m” into the two words I and am.\n",
    "\n",
    "For processing tweets or texts we’ll need to tokenize emoticons like “ :)” or hashtags like #nlproc."
   ]
  },
  {
   "cell_type": "markdown",
   "metadata": {
    "colab_type": "text",
    "id": "mEDpRmdek2tG"
   },
   "source": [
    "## Stemming\n",
    "\n",
    "Stemming is the process of reducing a word to its word stem that affixes to suffixes and prefixes or to the roots of words known as a lemma. Stemming is important in natural language understanding (NLU) and natural language processing (NLP).\n",
    "\n",
    "Stemming is a part of linguistic studies in morphology and artificial intelligence (AI) information retrieval and extraction. Stemming and AI knowledge extract meaningful information from vast sources like big data or the Internet since additional forms of a word related to a subject may need to be searched to get the best results. Stemming is also a part of queries and Internet search engines.\n",
    "\n",
    "Recognizing, searching and retrieving more forms of words returns more results. When a form of a word is recognized it can make it possible to return search results that otherwise might have been missed. That additional information retrieved is why stemming is integral to search queries and information retrieval.\n",
    "\n",
    "\n",
    "Applications of stemming are:\n",
    "\n",
    "* Stemming is used in information retrieval systems like search engines.\n",
    "* It is used to determine domain vocabularies in domain analysis.\n",
    "* Stemming is desirable as it may reduce redundancy as most of the time the word stem and their inflected/derived words mean the same."
   ]
  },
  {
   "cell_type": "code",
   "execution_count": 19,
   "metadata": {
    "colab": {
     "base_uri": "https://localhost:8080/",
     "height": 185
    },
    "colab_type": "code",
    "id": "81cWs5E0mySu",
    "outputId": "fa5bf9f6-562a-4a5e-e149-7960fc99efd1"
   },
   "outputs": [
    {
     "name": "stdout",
     "output_type": "stream",
     "text": [
      "there\n",
      "are\n",
      "sever\n",
      "type\n",
      "of\n",
      "stem\n",
      "algorithm\n",
      "for\n",
      "natur\n",
      "languag\n"
     ]
    }
   ],
   "source": [
    "from nltk.stem import PorterStemmer\n",
    "from nltk.tokenize import word_tokenize\n",
    "stemmer= PorterStemmer()\n",
    "input_str=\"There are several types of stemming algorithms for Natural languages\"\n",
    "input_str=word_tokenize(input_str)\n",
    "for word in input_str:\n",
    "    print(stemmer.stem(word))"
   ]
  },
  {
   "cell_type": "markdown",
   "metadata": {
    "colab_type": "text",
    "id": "rqHDNKw9nbNN"
   },
   "source": [
    "**Errors in Stemming**:\n",
    "There are mainly two errors in stemming – Overstemming and Understemming. Overstemming occurs when two words are stemmed to same root that are of different stems. Under-stemming occurs when two words are stemmed to same root that are not of different stems."
   ]
  },
  {
   "cell_type": "code",
   "execution_count": 20,
   "metadata": {
    "colab": {
     "base_uri": "https://localhost:8080/",
     "height": 84
    },
    "colab_type": "code",
    "id": "w0zuqyFen0Yl",
    "outputId": "5eb57167-6ed9-438e-c193-1e5143f11732"
   },
   "outputs": [
    {
     "name": "stdout",
     "output_type": "stream",
     "text": [
      "have\n",
      "having\n",
      "generous\n",
      "gener\n"
     ]
    }
   ],
   "source": [
    "from nltk.stem.snowball import SnowballStemmer\n",
    "stemmer = SnowballStemmer(\"english\")\n",
    "stemmer2 = SnowballStemmer(\"english\", ignore_stopwords=True)\n",
    "print(stemmer.stem(\"having\"))\n",
    "print(stemmer2.stem(\"having\"))\n",
    "\n",
    "print(SnowballStemmer(\"english\").stem(\"generously\"))\n",
    "\n",
    "print(SnowballStemmer(\"porter\").stem(\"generously\"))"
   ]
  },
  {
   "cell_type": "markdown",
   "metadata": {
    "colab_type": "text",
    "id": "cmzAmVUQuvIC"
   },
   "source": [
    "**N-Gram Stemmer**\n",
    "\n",
    "An n-gram is a set of n consecutive characters extracted from a word in which similar words will have a high proportion of n-grams in common.\n",
    "Example: ‘INTRODUCTIONS’ for n=2 becomes : *I, IN, NT, TR, RO, OD, DU, UC, CT, TI, IO, ON, NS, S*\n",
    "\n",
    "Advantage: It is based on string comparisons and it is language dependent.\n",
    "\n",
    "Limitation: It requires space to create and index the n-grams and it is not time efficient."
   ]
  },
  {
   "cell_type": "markdown",
   "metadata": {
    "colab_type": "text",
    "id": "oHCYQ6GDvP4z"
   },
   "source": [
    "### Lemmatizer\n",
    "\n",
    "The goal of both stemming and lemmatization is to reduce inflectional forms and sometimes derivationally related forms of a word to a common base form.\n",
    "\n",
    "However, the two words differ in their flavor. Stemming usually refers to a crude heuristic process that chops off the ends of words in the hope of achieving this goal correctly most of the time, and often includes the removal of derivational affixes. \n",
    "\n",
    "Lemmatization usually refers to doing things properly with the use of a vocabulary and morphological analysis of words, normally aiming to remove inflectional endings only and to return the base or dictionary form of a word, which is known as the lemma ."
   ]
  },
  {
   "cell_type": "markdown",
   "metadata": {
    "colab_type": "text",
    "id": "JEYVaVrVv39A"
   },
   "source": [
    "Lemmatisation is closely related to stemming. The difference is that a stemmer operates on a single word without knowledge of the context, and therefore cannot discriminate between words which have different meanings depending on part of speech. However, stemmers are typically easier to implement and run faster, and the reduced accuracy may not matter for some applications.\n",
    "\n",
    "For instance:\n",
    "\n",
    "The word \"better\" has \"good\" as its lemma. This link is missed by stemming, as it requires a dictionary look-up.\n",
    "\n",
    "The word \"walk\" is the base form for word \"walking\", and hence this is matched in both stemming and lemmatisation.\n",
    "\n",
    "The word \"meeting\" can be either the base form of a noun or a form of a verb (\"to meet\") depending on the context, e.g., \"in our last meeting\" or \"We are meeting again tomorrow\". Unlike stemming, lemmatisation can in principle select the appropriate lemma depending on the context."
   ]
  },
  {
   "cell_type": "code",
   "execution_count": 21,
   "metadata": {
    "colab": {
     "base_uri": "https://localhost:8080/",
     "height": 67
    },
    "colab_type": "code",
    "id": "RrTwcJaEvX0k",
    "outputId": "2e05fcc8-6d2d-466a-e9a2-526ea4d0c624"
   },
   "outputs": [
    {
     "name": "stderr",
     "output_type": "stream",
     "text": [
      "[nltk_data] Downloading package wordnet to\n",
      "[nltk_data]     C:\\Users\\pallaw\\AppData\\Roaming\\nltk_data...\n",
      "[nltk_data]   Package wordnet is already up-to-date!\n"
     ]
    },
    {
     "data": {
      "text/plain": [
       "True"
      ]
     },
     "execution_count": 21,
     "metadata": {},
     "output_type": "execute_result"
    }
   ],
   "source": [
    "nltk.download('wordnet')"
   ]
  },
  {
   "cell_type": "code",
   "execution_count": 25,
   "metadata": {
    "colab": {
     "base_uri": "https://localhost:8080/",
     "height": 34
    },
    "colab_type": "code",
    "id": "Lnqi93NnvR1U",
    "outputId": "2e09cbb4-6ae9-466c-ad4d-afae17f6f5ab"
   },
   "outputs": [
    {
     "data": {
      "text/plain": [
       "'worst'"
      ]
     },
     "execution_count": 25,
     "metadata": {},
     "output_type": "execute_result"
    }
   ],
   "source": [
    "import nltk\n",
    "lemma = nltk.wordnet.WordNetLemmatizer()\n",
    "lemma.lemmatize('article')\n",
    "lemma.lemmatize('leaves')\n",
    "lemma.lemmatize('worst')"
   ]
  },
  {
   "cell_type": "markdown",
   "metadata": {
    "colab_type": "text",
    "id": "Re74ahJWwTf-"
   },
   "source": [
    "**Object Standardization**\n",
    "\n",
    "Text data often contains words or phrases which are not present in any standard lexical dictionaries. These pieces are not recognized by search engines and models.\n",
    "\n",
    "Some of the examples are – acronyms, hashtags with attached words, and colloquial slangs. With the help of regular expressions and manually prepared data dictionaries, this type of noise can be fixed, the code below uses a dictionary lookup method to replace social media slangs from a text."
   ]
  },
  {
   "cell_type": "code",
   "execution_count": 23,
   "metadata": {
    "colab": {
     "base_uri": "https://localhost:8080/",
     "height": 34
    },
    "colab_type": "code",
    "id": "7mLgigvpwVeU",
    "outputId": "ceeb49b9-a36a-467c-cdf1-dee2804a1059"
   },
   "outputs": [
    {
     "name": "stdout",
     "output_type": "stream",
     "text": [
      "Retweet We are going to CCD @ MG Road!! direct message for more info.!!\n"
     ]
    }
   ],
   "source": [
    "lookup_dict = {'rt':'Retweet', 'dm':'direct message', \"awsm\" : \"awesome\", \"luv\" :\"love\"}\n",
    "def lookup_words(input_text):\n",
    "    words = input_text.split() \n",
    "    new_words = [] \n",
    "    for word in words:\n",
    "        if word.lower() in lookup_dict:\n",
    "            word = lookup_dict[word.lower()]\n",
    "        new_words.append(word) \n",
    "        new_text = \" \".join(new_words) \n",
    "    return new_text\n",
    "\n",
    "print(lookup_words(\"RT We are going to CCD @ MG Road!! dm for more info.!!\"))"
   ]
  },
  {
   "cell_type": "code",
   "execution_count": null,
   "metadata": {},
   "outputs": [],
   "source": []
  }
 ],
 "metadata": {
  "colab": {
   "collapsed_sections": [],
   "name": "Natural Language Pre - Processing.ipynb",
   "provenance": []
  },
  "kernelspec": {
   "display_name": "Python 3",
   "language": "python",
   "name": "python3"
  },
  "language_info": {
   "codemirror_mode": {
    "name": "ipython",
    "version": 3
   },
   "file_extension": ".py",
   "mimetype": "text/x-python",
   "name": "python",
   "nbconvert_exporter": "python",
   "pygments_lexer": "ipython3",
   "version": "3.7.4"
  }
 },
 "nbformat": 4,
 "nbformat_minor": 1
}
